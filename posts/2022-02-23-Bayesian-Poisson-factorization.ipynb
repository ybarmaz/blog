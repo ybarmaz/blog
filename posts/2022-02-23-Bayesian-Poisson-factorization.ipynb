{
 "cells": [
  {
   "cell_type": "raw",
   "metadata": {},
   "source": [
    "---\n",
    "aliases:\n",
    "- /bayesian modeling/machine learning/tensorflow-probability/variational inference/2022/02/23/Bayesian-Poisson-factorization\n",
    "author: Yves Barmaz\n",
    "badges: true\n",
    "branch: master\n",
    "categories:\n",
    "- bayesian modeling\n",
    "- variational inference\n",
    "- tensorflow-probability\n",
    "- machine learning\n",
    "date: '2022-02-23'\n",
    "description: A probabilistic recommender system implemented with TensorFlow Probability\n",
    "  layers.\n",
    "output-file: 2022-02-23-bayesian-poisson-factorization.html\n",
    "title: Bayesian Poisson factorization\n",
    "toc: false\n",
    "comments:\n",
    "  utterances:\n",
    "    repo: ybarmaz/blog\n",
    "\n",
    "---\n",
    "\n"
   ]
  },
  {
   "cell_type": "markdown",
   "metadata": {},
   "source": [
    "A lot of recommender systems are built on matrix factorization models, where the partially observed matrix of user/item interactions is approximated by a product of matrices encoding latent characteristics of users and items. They can be corrected by user and item bias terms, and modified by activation functions that map to the data type of the observed interactions (e.g. binary kudos on Strava activities, counts of visits of a YouTube channel, ratings on Tripadvisor, or time spent watching a TikTok video before swiping up).\n",
    "\n",
    "In machine learning, these matrix factorizations are often implemented as embeddings into latent spaces followed by scalar products of the user latent vectors by the item latent vectors, and the model is fit to historical data with a gradient descent algorithm. A [Keras tutorial on collaborative filtering](https://keras.io/examples/structured_data/collaborative_filtering_movielens/) describes the methodology with the Movielens dataset.\n",
    "\n",
    "While the resulting model only provides point estimates of future interactions between users and items, a Bayesian treatment of the problem would add an approximation of the uncertainty of these estimates. Formally, we could express the same model with priors on the vector embeddings in a probabilistic programming library and sample the posteriors with an MCMC algorithm, but computing the likelihood of past interactions can be impractical for very large datasets. Moreover, due to the invariance of the model under permutations of the embedding dimensions, MCMC sampling of the multimodal posterior would be a nightmare. On the other hand, minimizing $KL(q \\Vert p)$ through variational inference produces a mode-seeking behavior (see for instance these [lecture notes](https://www.fil.ion.ucl.ac.uk/~wpenny/talks/inference.pdf)), a bit like gradient descent in \"classical\" machine learning finds a local minimum.\n",
    "\n",
    "In this blog post, we will be exploring how to implement a model inspired by Gopalan, Hofman and Blei ([Scalable Recommendation with Poisson Factorization](https://arxiv.org/abs/1311.1704)) with [TensorFLow Probability](https://www.tensorflow.org/probability).\n",
    "\n",
    "In the mean field approximation, where we assume that the variational distribution $q$ factorizes over the latent variables, we can implement variational inference with probabilistic layers from the `tfp.layers` module. One way to do it is to specify the variational distribution $q$ with a `tfpl.DistributionLambda(lambda variational_parameter: ...)` layer and add its interaction with the prior in the [ELBO](https://en.wikipedia.org/wiki/Evidence_lower_bound) through an activity regularizer, `activity_regularizer = tfpl.KLDivergenceRegularizer(prior_distribution)`. For probabilistic embeddings, the variational parameters are conveniently expressed as standard embeddings into a space of dimension $n_{params} \\times D$, where $D$ is the dimension of the original latent embeddings, and $n_{params}$ the number of variational parameters of the corresponding component of $q$."
   ]
  },
  {
   "cell_type": "code",
   "execution_count": 1,
   "metadata": {},
   "outputs": [],
   "source": [
    "#| include: false\n",
    "import pandas as pd\n",
    "import numpy as np\n",
    "from zipfile import ZipFile\n",
    "import tensorflow as tf\n",
    "from pathlib import Path\n",
    "import matplotlib.pyplot as plt\n",
    "\n",
    "import tensorflow_probability as tfp\n",
    "tfd = tfp.distributions\n",
    "tdb = tfp.bijectors\n",
    "tfpl = tfp.layers\n",
    "tfk = tf.keras\n",
    "tfkl = tf.keras.layers"
   ]
  },
  {
   "cell_type": "code",
   "execution_count": 2,
   "metadata": {},
   "outputs": [],
   "source": [
    "#| include: false\n",
    "\n",
    "#the following two cells are recycled from the keras tutorial\n",
    "\n",
    "# Download the actual data from http://files.grouplens.org/datasets/movielens/ml-latest-small.zip\"\n",
    "# Use the ratings.csv file\n",
    "movielens_data_file_url = (\n",
    "    \"http://files.grouplens.org/datasets/movielens/ml-latest-small.zip\"\n",
    ")\n",
    "movielens_zipped_file = tfk.utils.get_file(\n",
    "    \"ml-latest-small.zip\", movielens_data_file_url, extract=False\n",
    ")\n",
    "keras_datasets_path = Path(movielens_zipped_file).parents[0]\n",
    "movielens_dir = keras_datasets_path / \"ml-latest-small\"\n",
    "\n",
    "# Only extract the data the first time the script is run.\n",
    "if not movielens_dir.exists():\n",
    "    with ZipFile(movielens_zipped_file, \"r\") as zip:\n",
    "        # Extract files\n",
    "        print(\"Extracting all the files now...\")\n",
    "        zip.extractall(path=keras_datasets_path)\n",
    "        print(\"Done!\")\n",
    "\n",
    "ratings_file = movielens_dir / \"ratings.csv\"\n",
    "df = pd.read_csv(ratings_file)"
   ]
  },
  {
   "cell_type": "code",
   "execution_count": 3,
   "metadata": {},
   "outputs": [],
   "source": [
    "#| include: false\n",
    "\n",
    "#process the data\n",
    "user_ids = df[\"userId\"].unique().tolist()\n",
    "user2user_encoded = {x: i for i, x in enumerate(user_ids)}\n",
    "userencoded2user = {i: x for i, x in enumerate(user_ids)}\n",
    "movie_ids = df[\"movieId\"].unique().tolist()\n",
    "movie2movie_encoded = {x: i for i, x in enumerate(movie_ids)}\n",
    "movie_encoded2movie = {i: x for i, x in enumerate(movie_ids)}\n",
    "df[\"user\"] = df[\"userId\"].map(user2user_encoded)\n",
    "df[\"movie\"] = df[\"movieId\"].map(movie2movie_encoded)\n",
    "\n",
    "num_users = len(user2user_encoded)\n",
    "num_movies = len(movie_encoded2movie)\n",
    "df[\"rating\"] = df[\"rating\"].values.astype(np.float32)"
   ]
  },
  {
   "cell_type": "code",
   "execution_count": 4,
   "metadata": {},
   "outputs": [],
   "source": [
    "#| include: false\n",
    "\n",
    "#split the training and validation data\n",
    "df = df.sample(frac=1, random_state=42)\n",
    "x = df[[\"user\", \"movie\"]].values\n",
    "# Rescale the ratings to integer counts between 0 and 9 and cast as float for\n",
    "# compatibility with the log_prob method of the tfd.Poisson distribution\n",
    "y = (2*df['rating']-1).astype('float').values\n",
    "# Assuming training on 90% of the data and validating on 10%.\n",
    "train_indices = int(0.9 * df.shape[0])\n",
    "x_train, x_val, y_train, y_val = (\n",
    "    x[:train_indices],\n",
    "    x[train_indices:],\n",
    "    y[:train_indices],\n",
    "    y[train_indices:]\n",
    ")"
   ]
  },
  {
   "cell_type": "markdown",
   "metadata": {},
   "source": [
    "A [custom Keras layer](https://keras.io/guides/making_new_layers_and_models_via_subclassing/) wraps the construction of a probabilistic embedding, with its `__init__` method receiving the hyperparameters. Here we picked Gamma distributions for both the priors and the variational distributions."
   ]
  },
  {
   "cell_type": "code",
   "execution_count": 5,
   "metadata": {},
   "outputs": [],
   "source": [
    "class GammaEmbedding(tfkl.Layer):\n",
    "    def __init__(self, num_classes, embedding_size,\n",
    "                 embedding_concentration, embedding_rate, kl_weight=None, **kwargs):\n",
    "        super(GammaEmbedding, self).__init__(**kwargs)\n",
    "        \n",
    "        self.embedding_parameters = tfkl.Embedding(\n",
    "            num_classes,\n",
    "            2 * embedding_size,\n",
    "            embeddings_initializer=\"he_normal\"\n",
    "        )\n",
    "        \n",
    "        self.embedding_distribution = tfpl.DistributionLambda(\n",
    "            lambda x: tfd.Independent(\n",
    "                tfd.Gamma(tf.math.exp(x[:, :embedding_size]),\n",
    "                          rate=tf.math.exp(x[:, embedding_size:])),\n",
    "                reinterpreted_batch_ndims=1),\n",
    "            activity_regularizer = tfpl.KLDivergenceRegularizer(\n",
    "                tfd.Independent(\n",
    "                    tfd.Gamma(embedding_concentration\n",
    "                              * tf.ones(shape=(embedding_size,), dtype=tf.float32),\n",
    "                              rate=embedding_rate),\n",
    "                    reinterpreted_batch_ndims=1),\n",
    "                weight=kl_weight,\n",
    "                use_exact_kl=True\n",
    "            )\n",
    "        )\n",
    "            \n",
    "    def __call__(self, inputs):\n",
    "        embedding_param = self.embedding_parameters(inputs)\n",
    "        return self.embedding_distribution(embedding_param)"
   ]
  },
  {
   "cell_type": "markdown",
   "metadata": {},
   "source": [
    "The bias terms mentioned earlier could be implemented as one-dimensional probabilistic embeddings and added to the scalar products of user and item embeddings, but Gopalan *et al.* suggest to introduce these degrees of freedom as hyperpriors for the rate parameters of the embedding Gamma distributions with a hierarchical model construction. Compared to the simple Gamma embedding where the priors in `tfpl.KLDivergenceRegularizer(prior, weight)` were fixed and specified as an `activity_regularizer` parameter, we now need them to evolve with the variational parameters of their hyperprior during training. As a workaround, we can specify a custom KL divergence loss term with the `add_loss` method."
   ]
  },
  {
   "cell_type": "code",
   "execution_count": 6,
   "metadata": {},
   "outputs": [],
   "source": [
    "class HierarchicalGammaEmbedding(tfkl.Layer):\n",
    "    def __init__(self, num_classes, embedding_size,\n",
    "                 parent_concentration, parent_rate,\n",
    "                 embedding_concentration, kl_weight=None, **kwargs):\n",
    "        super(HierarchicalGammaEmbedding, self).__init__(**kwargs)\n",
    "        self.kl_weight = kl_weight\n",
    "        self.embedding_concentration = embedding_concentration\n",
    "        \n",
    "        self.rate_dist_params = tfpl.VariableLayer((2*embedding_size,))\n",
    "        self.rate_distribution = tfpl.DistributionLambda(\n",
    "            lambda x: tfd.Independent(\n",
    "                tfd.Gamma(tf.math.exp(x[:embedding_size]),\n",
    "                          rate=tf.math.exp(x[embedding_size:])),\n",
    "                reinterpreted_batch_ndims=1),\n",
    "            activity_regularizer = tfpl.KLDivergenceRegularizer(\n",
    "                tfd.Independent(\n",
    "                    tfd.Gamma(parent_concentration\n",
    "                              * tf.ones(shape=(embedding_size,), dtype=tf.float32),\n",
    "                              rate=parent_rate),\n",
    "                    reinterpreted_batch_ndims=1),\n",
    "                weight=kl_weight,\n",
    "                use_exact_kl=True\n",
    "            )\n",
    "        )\n",
    "        \n",
    "        self.embedding_parameters = tfkl.Embedding(\n",
    "            num_classes,\n",
    "            2 * embedding_size,\n",
    "            embeddings_initializer=\"glorot_normal\"\n",
    "        )\n",
    "        \n",
    "        self.embedding_distribution = tfpl.DistributionLambda(\n",
    "            lambda x: tfd.Independent(\n",
    "                tfd.Gamma(tf.math.exp(x[:, :embedding_size]),\n",
    "                          rate=tf.math.exp(x[:, embedding_size:])),\n",
    "                reinterpreted_batch_ndims=1\n",
    "            )\n",
    "        )\n",
    "            \n",
    "    def __call__(self, inputs):        \n",
    "        embedding_param = self.embedding_parameters(inputs)\n",
    "        embedding_distribution = self.embedding_distribution(embedding_param)\n",
    "\n",
    "        rate_dist_params = self.rate_dist_params(inputs)\n",
    "        embedding_rate = self.rate_distribution(rate_dist_params)\n",
    "        embedding_prior = tfd.Independent(\n",
    "            tfd.Gamma(self.embedding_concentration,\n",
    "                      rate=embedding_rate * tf.ones((1, EMBEDDING_SIZE))),\n",
    "            reinterpreted_batch_ndims=1)\n",
    "        self.add_loss(\n",
    "            self.kl_weight *\n",
    "            tf.reduce_sum(embedding_distribution.kl_divergence(embedding_prior))\n",
    "        )\n",
    "        \n",
    "        return embedding_distribution"
   ]
  },
  {
   "cell_type": "markdown",
   "metadata": {},
   "source": [
    "With the probabilistic embeddings defined as custom layers, the full model only needs a few lines of code. The user and movie embeddings are constructed as hierarchical Gamma embeddings, and their scalar product will be the rate of the Poisson distribution that generates the observations, implemented as a distribution lambda layer."
   ]
  },
  {
   "cell_type": "code",
   "execution_count": 7,
   "metadata": {},
   "outputs": [],
   "source": [
    "class ProbabilisticRecommender(tfk.Model):\n",
    "    def __init__(self, num_users, num_movies, embedding_size, kl_weight, **kwargs):\n",
    "        super(ProbabilisticRecommender, self).__init__(**kwargs)\n",
    "        self.num_users = num_users\n",
    "        self.num_movies = num_movies\n",
    "        self.embedding_size = embedding_size\n",
    "        \n",
    "        self.user_embedding = HierarchicalGammaEmbedding(\n",
    "            num_users,\n",
    "            embedding_size,\n",
    "            parent_concentration=1.,\n",
    "            parent_rate=100.,\n",
    "            embedding_concentration=1.,\n",
    "            kl_weight=kl_weight\n",
    "        )\n",
    "        \n",
    "        self.movie_embedding = HierarchicalGammaEmbedding(\n",
    "            num_movies,\n",
    "            embedding_size,\n",
    "            parent_concentration=1.,\n",
    "            parent_rate=100.,\n",
    "            embedding_concentration=1.,\n",
    "            kl_weight=kl_weight\n",
    "        )\n",
    "\n",
    "        self.head = tfpl.DistributionLambda(lambda t: tfd.Poisson(t))\n",
    "        \n",
    "    def call(self, inputs):\n",
    "        user_vector = self.user_embedding(inputs[:, 0])\n",
    "        movie_vector = self.movie_embedding(inputs[:, 1])\n",
    "        dot_user_movie = tf.reduce_sum(user_vector * movie_vector, axis=-1)\n",
    "        return self.head(dot_user_movie)"
   ]
  },
  {
   "cell_type": "markdown",
   "metadata": {},
   "source": [
    "With a probability distribution as an output, this model requires a negative log-likelihood loss function, otherwise it is straightforward to train it like any Keras model."
   ]
  },
  {
   "cell_type": "code",
   "execution_count": 8,
   "metadata": {},
   "outputs": [],
   "source": [
    "EMBEDDING_SIZE = 50\n",
    "\n",
    "BATCH_SIZE = 128\n",
    "KL_WEIGHT =  1/x_train.shape[0]\n",
    "\n",
    "negloglik = lambda y, rv_y: -rv_y.log_prob(y)\n",
    "\n",
    "prob_model = ProbabilisticRecommender(num_users, num_movies, EMBEDDING_SIZE, KL_WEIGHT)\n",
    "prob_model.compile(\n",
    "    loss=negloglik, optimizer=tfk.optimizers.Adam(learning_rate=0.001)\n",
    ")"
   ]
  },
  {
   "cell_type": "code",
   "execution_count": 9,
   "metadata": {},
   "outputs": [
    {
     "name": "stdout",
     "output_type": "stream",
     "text": [
      "Epoch 1/15\n",
      "709/709 [==============================] - 10s 10ms/step - loss: 22.4395 - val_loss: 15.1178\n",
      "Epoch 2/15\n",
      "709/709 [==============================] - 7s 10ms/step - loss: 11.1923 - val_loss: 8.6141\n",
      "Epoch 3/15\n",
      "709/709 [==============================] - 7s 9ms/step - loss: 6.8173 - val_loss: 5.7850\n",
      "Epoch 4/15\n",
      "709/709 [==============================] - 7s 10ms/step - loss: 4.8240 - val_loss: 4.3640\n",
      "Epoch 5/15\n",
      "709/709 [==============================] - 7s 10ms/step - loss: 3.8497 - val_loss: 3.6554\n",
      "Epoch 6/15\n",
      "709/709 [==============================] - 7s 9ms/step - loss: 3.3461 - val_loss: 3.2997\n",
      "Epoch 7/15\n",
      "709/709 [==============================] - 7s 10ms/step - loss: 3.0869 - val_loss: 3.0864\n",
      "Epoch 8/15\n",
      "709/709 [==============================] - 7s 9ms/step - loss: 2.9223 - val_loss: 2.9411\n",
      "Epoch 9/15\n",
      "709/709 [==============================] - 7s 9ms/step - loss: 2.8208 - val_loss: 2.8457\n",
      "Epoch 10/15\n",
      "709/709 [==============================] - 6s 9ms/step - loss: 2.7450 - val_loss: 2.8041\n",
      "Epoch 11/15\n",
      "709/709 [==============================] - 7s 9ms/step - loss: 2.6941 - val_loss: 2.7109\n",
      "Epoch 12/15\n",
      "709/709 [==============================] - 7s 9ms/step - loss: 2.6476 - val_loss: 2.6955\n",
      "Epoch 13/15\n",
      "709/709 [==============================] - 7s 9ms/step - loss: 2.6142 - val_loss: 2.6716\n",
      "Epoch 14/15\n",
      "709/709 [==============================] - 7s 10ms/step - loss: 2.5843 - val_loss: 2.6438\n",
      "Epoch 15/15\n",
      "709/709 [==============================] - 7s 10ms/step - loss: 2.5610 - val_loss: 2.6119\n"
     ]
    }
   ],
   "source": [
    "#| include: false\n",
    "\n",
    "history = prob_model.fit(\n",
    "    x=x_train,\n",
    "    y=y_train,\n",
    "    batch_size=BATCH_SIZE,\n",
    "    epochs=15,\n",
    "    verbose=1,\n",
    "    validation_data=(x_val, y_val)\n",
    ")"
   ]
  },
  {
   "cell_type": "code",
   "execution_count": 10,
   "metadata": {},
   "outputs": [
    {
     "data": {
      "image/png": "[encoded data removed]",
      "text/plain": [
       "<Figure size 640x480 with 1 Axes>"
      ]
     },
     "metadata": {},
     "output_type": "display_data"
    }
   ],
   "source": [
    "#| include: false\n",
    "\n",
    "plt.plot(history.history[\"loss\"])\n",
    "plt.plot(history.history[\"val_loss\"])\n",
    "plt.title(\"model loss\")\n",
    "plt.ylabel(\"loss\")\n",
    "plt.xlabel(\"epoch\")\n",
    "plt.legend([\"train\", \"test\"], loc=\"upper right\")\n",
    "plt.show()"
   ]
  },
  {
   "cell_type": "code",
   "execution_count": 11,
   "metadata": {},
   "outputs": [
    {
     "name": "stdout",
     "output_type": "stream",
     "text": [
      "tf.Tensor([2.0382528 5.5400205 3.6636052], shape=(3,), dtype=float32)\n",
      "tf.Tensor([2.0382528 5.5400205 3.6636052], shape=(3,), dtype=float32)\n"
     ]
    }
   ],
   "source": [
    "#| include: false\n",
    "\n",
    "dist = prob_model(x_val[:3])\n",
    "print(dist.mean())\n",
    "print(dist.rate_parameter())"
   ]
  },
  {
   "cell_type": "markdown",
   "metadata": {},
   "source": [
    "Once the model has been trained, we can call it on new user/item pairs to produce a Poisson distribution of posterior predicted observations. We can directly sample user ratings from this distribution with `.sample()`, or call its `.rate_parameter()` method to find the posterior predicted rate. The latter offers a higher resolution to rank items for a given user (it is a continuous variable rather than an integer) and is therefore more practical for recommender systems.\n",
    "\n",
    "When the model is called, each probabilistic layer returns a single sample from its learned variational distribution. To estimate the posterior predicted Poisson rate of a user/item interaction, one can call the model several times to obtain a sample. In real world applications, drawing a single Poisson rate or only a few of them rather than estimating the posterior mean to score an item might prove more useful as it offers a broader variety of suggestions to users whose tastes are less certain, namely with user embedding distributions of higher variance. It addresses the exploration-exploitation trade-off with a mechanism similar to [Thompson sampling](https://en.wikipedia.org/wiki/Thompson_sampling) (see also this previous [blog post](https://ybarmaz.github.io/blog/posts/2021-02-09-contextual_bandits.html)).\n",
    "\n",
    "In general, users who have provided less ratings or good ratings across a large spectrum of items will get less defined embeddings, and this approach will give them recommendations that explore the item landscape more broadly than for users with tighter embeddings. These users with better-known tastes will still get random suggestions relatively far from their usual preference, albeit less frequently than the users with less defined embeddings, but this is not something that happens with models based on classical embeddings, which always return the same results.\n",
    "\n",
    "This mechanism is also interesting when acquiring new users who have not yet provided ratings. We can itialize their embeddings to match the priors, or learned distributions from similar users but with wider variance, and use this untrained model to draw recommendations that are compatible with our prior knowledge. When they start giving ratings, we can train the corresponding user embedding layers to incorporate the new knowledge, while freezing the item embedding layers for stability and increased speed.\n",
    "\n",
    "With TensorFlow Probability layers, we can thus add a Bayesian flavor to more traditional recommender systems and address issues such as exploration-exploitation trade-offs or cold starts in a more principled way. From another angle, we can express probabilistic models such as matrix factorization models as Keras models and take advantage of the `tf.data.Dataset` API for batch training with potentially large datasets."
   ]
  },
  {
   "cell_type": "code",
   "execution_count": 12,
   "metadata": {},
   "outputs": [],
   "source": [
    "#| include: false\n",
    "\n",
    "def get_posterior_score(x, n_sample=10, model=prob_model, threshold=6):\n",
    "    posterior_sample = [model(x).mean() for _ in range(n_sample)]\n",
    "    posterior_sample = tf.stack(posterior_sample, axis=1)\n",
    "    mean_score = tf.reduce_mean(posterior_sample, axis=1)\n",
    "    std_score = tf.math.reduce_std(posterior_sample, axis=1)\n",
    "    \n",
    "    chances_good = tf.reduce_mean(tf.cast(posterior_sample>threshold, tf.float32), axis=1)\n",
    "    return mean_score, std_score, chances_good"
   ]
  },
  {
   "cell_type": "code",
   "execution_count": 13,
   "metadata": {},
   "outputs": [
    {
     "name": "stdout",
     "output_type": "stream",
     "text": [
      "Showing recommendations for user: 307\n",
      "====================================\n",
      "Movies with high ratings from user\n",
      "--------------------------------\n",
      "Army of Darkness (1993) : Action|Adventure|Comedy|Fantasy|Horror\n",
      "American History X (1998) : Crime|Drama\n",
      "Shaun of the Dead (2004) : Comedy|Horror\n",
      "Reign Over Me (2007) : Drama\n",
      "WALL·E (2008) : Adventure|Animation|Children|Romance|Sci-Fi\n",
      "--------------------------------\n",
      "Top 10 movie recommendations\n",
      "--------------------------------\n",
      "Barefoot Executive, The (1971) : Children|Comedy\n",
      "All the Vermeers in New York (1990) : Comedy|Drama|Romance\n",
      "Light Years (Gandahar) (1988) : Adventure|Animation|Fantasy|Sci-Fi\n",
      "Americathon (1979) : Comedy|Sci-Fi\n",
      "Jetée, La (1962) : Romance|Sci-Fi\n",
      "Zero de conduite (Zero for Conduct) (Zéro de conduite: Jeunes diables au collège) (1933) : Comedy|Drama\n",
      "Starter for 10 (2006) : Drama|Romance\n",
      "Himizu (2011) : Children|Crime|Drama\n",
      "Kidnapping, Caucasian Style (Kavkazskaya plennitsa) (1967) : Comedy|Romance\n",
      "Dragon ball Z 04: Lord Slug (1991) : Animation|Children\n"
     ]
    }
   ],
   "source": [
    "#| include: false\n",
    "\n",
    "movie_df = pd.read_csv(movielens_dir / \"movies.csv\")\n",
    "\n",
    "# Let us get a user and see the top recommendations.\n",
    "user_id = df.userId.sample(1).iloc[0]\n",
    "movies_watched_by_user = df[df.userId == user_id]\n",
    "movies_not_watched = movie_df[\n",
    "    ~movie_df[\"movieId\"].isin(movies_watched_by_user.movieId.values)\n",
    "][\"movieId\"]\n",
    "movies_not_watched = list(\n",
    "    set(movies_not_watched).intersection(set(movie2movie_encoded.keys()))\n",
    ")\n",
    "movies_not_watched = [[movie2movie_encoded.get(x)] for x in movies_not_watched]\n",
    "user_encoder = user2user_encoded.get(user_id)\n",
    "user_movie_array = np.hstack(\n",
    "    ([[user_encoder]] * len(movies_not_watched), movies_not_watched)\n",
    ")\n",
    "#ratings = np.mean(np.concatenate([prob_model.predict(user_movie_array) for _ in range(50)], axis=1), axis=1)\n",
    "ms, ss, cg = get_posterior_score(user_movie_array, 50)\n",
    "ratings = ms.numpy()\n",
    "top_ratings_indices = ratings.argsort()[-10:][::-1]\n",
    "recommended_movie_ids = [\n",
    "    movie_encoded2movie.get(movies_not_watched[x][0]) for x in top_ratings_indices\n",
    "]\n",
    "\n",
    "print(\"Showing recommendations for user: {}\".format(user_id))\n",
    "print(\"====\" * 9)\n",
    "print(\"Movies with high ratings from user\")\n",
    "print(\"----\" * 8)\n",
    "top_movies_user = (\n",
    "    movies_watched_by_user.sort_values(by=\"rating\", ascending=False)\n",
    "    .head(5)\n",
    "    .movieId.values\n",
    ")\n",
    "movie_df_rows = movie_df[movie_df[\"movieId\"].isin(top_movies_user)]\n",
    "for row in movie_df_rows.itertuples():\n",
    "    print(row.title, \":\", row.genres)\n",
    "\n",
    "print(\"----\" * 8)\n",
    "print(\"Top 10 movie recommendations\")\n",
    "print(\"----\" * 8)\n",
    "recommended_movies = movie_df[movie_df[\"movieId\"].isin(recommended_movie_ids)]\n",
    "for row in recommended_movies.itertuples():\n",
    "    print(row.title, \":\", row.genres)\n"
   ]
  },
  {
   "cell_type": "code",
   "execution_count": 14,
   "metadata": {},
   "outputs": [
    {
     "name": "stdout",
     "output_type": "stream",
     "text": [
      "label\n",
      "0.0    5.663747\n",
      "1.0    5.688386\n",
      "2.0    5.507147\n",
      "3.0    5.777765\n",
      "4.0    5.686498\n",
      "5.0    6.185878\n",
      "6.0    6.472412\n",
      "7.0    6.785916\n",
      "8.0    7.192302\n",
      "9.0    7.432914\n",
      "Name: score, dtype: float32\n"
     ]
    },
    {
     "data": {
      "text/plain": [
       "<AxesSubplot:xlabel='label', ylabel='score'>"
      ]
     },
     "execution_count": 14,
     "metadata": {},
     "output_type": "execute_result"
    },
    {
     "data": {
      "image/png": "[encoded data removed]",
      "text/plain": [
       "<Figure size 640x480 with 1 Axes>"
      ]
     },
     "metadata": {},
     "output_type": "display_data"
    }
   ],
   "source": [
    "#| include: false\n",
    "\n",
    "ms, ss, cg = get_posterior_score(x_val, 50)\n",
    "df_result = pd.DataFrame({'label': y_val, 'score': ms, 'delta': ss, 'cg':cg})\n",
    "df_result['rel_delta'] = df_result['delta'] / df_result['score']\n",
    "\n",
    "print(df_result.groupby(['label'])['score'].mean())\n",
    "\n",
    "df_result.plot.scatter('label', 'score')"
   ]
  },
  {
   "cell_type": "code",
   "execution_count": null,
   "metadata": {},
   "outputs": [],
   "source": []
  }
 ],
 "metadata": {
  "kernelspec": {
   "display_name": "Python 3 (ipykernel)",
   "language": "python",
   "name": "python3"
  },
  "language_info": {
   "codemirror_mode": {
    "name": "ipython",
    "version": 3
   },
   "file_extension": ".py",
   "mimetype": "text/x-python",
   "name": "python",
   "nbconvert_exporter": "python",
   "pygments_lexer": "ipython3",
   "version": "3.10.5"
  }
 },
 "nbformat": 4,
 "nbformat_minor": 4
}
